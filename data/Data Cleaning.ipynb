{
 "cells": [
  {
   "cell_type": "markdown",
   "metadata": {},
   "source": [
    "# Data Cleaning for Dataset\n",
    "Dataset found [here.](https://www.kaggle.com/olistbr/brazilian-ecommerce)"
   ]
  },
  {
   "cell_type": "code",
   "execution_count": 1,
   "metadata": {},
   "outputs": [],
   "source": [
    "import pandas as pd\n",
    "import glob"
   ]
  },
  {
   "cell_type": "code",
   "execution_count": 2,
   "metadata": {},
   "outputs": [
    {
     "name": "stdout",
     "output_type": "stream",
     "text": [
      "olist_customers_dataset.csv\n",
      "olist_geolocation_dataset.csv\n",
      "olist_orders_dataset.csv\n",
      "olist_order_items_dataset.csv\n",
      "olist_order_payments_dataset.csv\n",
      "olist_order_reviews_dataset.csv\n",
      "olist_products_dataset.csv\n",
      "olist_sellers_dataset.csv\n",
      "product_category_name_translation.csv\n"
     ]
    }
   ],
   "source": [
    "#import datasets\n",
    "filenames = glob.glob(\"*.csv\")\n",
    "\n",
    "datasets_list = []\n",
    "\n",
    "for filename in filenames:\n",
    "    print(filename)\n",
    "    df = pd.read_csv(filename)\n",
    "    datasets_list.append(df)"
   ]
  },
  {
   "cell_type": "code",
   "execution_count": 3,
   "metadata": {},
   "outputs": [],
   "source": [
    "#constants for easier access to dataset\n",
    "CUSTOMERS = 0\n",
    "GEOLOCATION = 1\n",
    "ORDERS = 2\n",
    "ORDER_ITEMS = 3\n",
    "ORDER_PAYMENTS = 4\n",
    "ORDER_REVIEWS = 5\n",
    "PRODUCTS = 6\n",
    "SELLERS = 7\n",
    "CATEGORY_NAME = 8"
   ]
  },
  {
   "cell_type": "code",
   "execution_count": 25,
   "metadata": {},
   "outputs": [
    {
     "data": {
      "text/html": [
       "<div>\n",
       "<style scoped>\n",
       "    .dataframe tbody tr th:only-of-type {\n",
       "        vertical-align: middle;\n",
       "    }\n",
       "\n",
       "    .dataframe tbody tr th {\n",
       "        vertical-align: top;\n",
       "    }\n",
       "\n",
       "    .dataframe thead th {\n",
       "        text-align: right;\n",
       "    }\n",
       "</style>\n",
       "<table border=\"1\" class=\"dataframe\">\n",
       "  <thead>\n",
       "    <tr style=\"text-align: right;\">\n",
       "      <th></th>\n",
       "      <th>order_id</th>\n",
       "      <th>order_item_id</th>\n",
       "      <th>product_id</th>\n",
       "      <th>seller_id</th>\n",
       "      <th>shipping_limit_date</th>\n",
       "      <th>price</th>\n",
       "      <th>freight_value</th>\n",
       "    </tr>\n",
       "  </thead>\n",
       "  <tbody>\n",
       "    <tr>\n",
       "      <th>0</th>\n",
       "      <td>00010242fe8c5a6d1ba2dd792cb16214</td>\n",
       "      <td>1</td>\n",
       "      <td>4244733e06e7ecb4970a6e2683c13e61</td>\n",
       "      <td>48436dade18ac8b2bce089ec2a041202</td>\n",
       "      <td>2017-09-19 09:45:35</td>\n",
       "      <td>58.90</td>\n",
       "      <td>13.29</td>\n",
       "    </tr>\n",
       "    <tr>\n",
       "      <th>1</th>\n",
       "      <td>00018f77f2f0320c557190d7a144bdd3</td>\n",
       "      <td>1</td>\n",
       "      <td>e5f2d52b802189ee658865ca93d83a8f</td>\n",
       "      <td>dd7ddc04e1b6c2c614352b383efe2d36</td>\n",
       "      <td>2017-05-03 11:05:13</td>\n",
       "      <td>239.90</td>\n",
       "      <td>19.93</td>\n",
       "    </tr>\n",
       "    <tr>\n",
       "      <th>2</th>\n",
       "      <td>000229ec398224ef6ca0657da4fc703e</td>\n",
       "      <td>1</td>\n",
       "      <td>c777355d18b72b67abbeef9df44fd0fd</td>\n",
       "      <td>5b51032eddd242adc84c38acab88f23d</td>\n",
       "      <td>2018-01-18 14:48:30</td>\n",
       "      <td>199.00</td>\n",
       "      <td>17.87</td>\n",
       "    </tr>\n",
       "    <tr>\n",
       "      <th>3</th>\n",
       "      <td>00024acbcdf0a6daa1e931b038114c75</td>\n",
       "      <td>1</td>\n",
       "      <td>7634da152a4610f1595efa32f14722fc</td>\n",
       "      <td>9d7a1d34a5052409006425275ba1c2b4</td>\n",
       "      <td>2018-08-15 10:10:18</td>\n",
       "      <td>12.99</td>\n",
       "      <td>12.79</td>\n",
       "    </tr>\n",
       "    <tr>\n",
       "      <th>4</th>\n",
       "      <td>00042b26cf59d7ce69dfabb4e55b4fd9</td>\n",
       "      <td>1</td>\n",
       "      <td>ac6c3623068f30de03045865e4e10089</td>\n",
       "      <td>df560393f3a51e74553ab94004ba5c87</td>\n",
       "      <td>2017-02-13 13:57:51</td>\n",
       "      <td>199.90</td>\n",
       "      <td>18.14</td>\n",
       "    </tr>\n",
       "  </tbody>\n",
       "</table>\n",
       "</div>"
      ],
      "text/plain": [
       "                           order_id  order_item_id  \\\n",
       "0  00010242fe8c5a6d1ba2dd792cb16214              1   \n",
       "1  00018f77f2f0320c557190d7a144bdd3              1   \n",
       "2  000229ec398224ef6ca0657da4fc703e              1   \n",
       "3  00024acbcdf0a6daa1e931b038114c75              1   \n",
       "4  00042b26cf59d7ce69dfabb4e55b4fd9              1   \n",
       "\n",
       "                         product_id                         seller_id  \\\n",
       "0  4244733e06e7ecb4970a6e2683c13e61  48436dade18ac8b2bce089ec2a041202   \n",
       "1  e5f2d52b802189ee658865ca93d83a8f  dd7ddc04e1b6c2c614352b383efe2d36   \n",
       "2  c777355d18b72b67abbeef9df44fd0fd  5b51032eddd242adc84c38acab88f23d   \n",
       "3  7634da152a4610f1595efa32f14722fc  9d7a1d34a5052409006425275ba1c2b4   \n",
       "4  ac6c3623068f30de03045865e4e10089  df560393f3a51e74553ab94004ba5c87   \n",
       "\n",
       "   shipping_limit_date   price  freight_value  \n",
       "0  2017-09-19 09:45:35   58.90          13.29  \n",
       "1  2017-05-03 11:05:13  239.90          19.93  \n",
       "2  2018-01-18 14:48:30  199.00          17.87  \n",
       "3  2018-08-15 10:10:18   12.99          12.79  \n",
       "4  2017-02-13 13:57:51  199.90          18.14  "
      ]
     },
     "execution_count": 25,
     "metadata": {},
     "output_type": "execute_result"
    }
   ],
   "source": [
    "datasets_list[ORDER_ITEMS].head() #Example accessing olist_order_items_dataset using constants"
   ]
  },
  {
   "cell_type": "code",
   "execution_count": 4,
   "metadata": {},
   "outputs": [
    {
     "name": "stdout",
     "output_type": "stream",
     "text": [
      "customer_id                 False\n",
      "customer_unique_id          False\n",
      "customer_zip_code_prefix    False\n",
      "customer_city               False\n",
      "customer_state              False\n",
      "dtype: bool\n",
      "geolocation_zip_code_prefix    False\n",
      "geolocation_lat                False\n",
      "geolocation_lng                False\n",
      "geolocation_city               False\n",
      "geolocation_state              False\n",
      "dtype: bool\n",
      "order_id                         False\n",
      "customer_id                      False\n",
      "order_status                     False\n",
      "order_purchase_timestamp         False\n",
      "order_approved_at                 True\n",
      "order_delivered_carrier_date      True\n",
      "order_delivered_customer_date     True\n",
      "order_estimated_delivery_date    False\n",
      "dtype: bool\n",
      "order_id               False\n",
      "order_item_id          False\n",
      "product_id             False\n",
      "seller_id              False\n",
      "shipping_limit_date    False\n",
      "price                  False\n",
      "freight_value          False\n",
      "dtype: bool\n",
      "order_id                False\n",
      "payment_sequential      False\n",
      "payment_type            False\n",
      "payment_installments    False\n",
      "payment_value           False\n",
      "dtype: bool\n",
      "review_id                  False\n",
      "order_id                   False\n",
      "review_score               False\n",
      "review_comment_title        True\n",
      "review_comment_message      True\n",
      "review_creation_date       False\n",
      "review_answer_timestamp    False\n",
      "dtype: bool\n",
      "product_id                    False\n",
      "product_category_name          True\n",
      "product_name_lenght            True\n",
      "product_description_lenght     True\n",
      "product_photos_qty             True\n",
      "product_weight_g               True\n",
      "product_length_cm              True\n",
      "product_height_cm              True\n",
      "product_width_cm               True\n",
      "dtype: bool\n",
      "seller_id                 False\n",
      "seller_zip_code_prefix    False\n",
      "seller_city               False\n",
      "seller_state              False\n",
      "dtype: bool\n",
      "product_category_name            False\n",
      "product_category_name_english    False\n",
      "dtype: bool\n"
     ]
    }
   ],
   "source": [
    "for df in datasets_list:\n",
    "    print(df.isnull().any())"
   ]
  },
  {
   "cell_type": "code",
   "execution_count": 5,
   "metadata": {},
   "outputs": [
    {
     "name": "stdout",
     "output_type": "stream",
     "text": [
      "99441\n",
      "1000163\n",
      "99441\n",
      "112650\n",
      "103886\n",
      "100000\n",
      "32951\n",
      "3095\n",
      "71\n"
     ]
    }
   ],
   "source": [
    "#size of each table\n",
    "for df in datasets_list:\n",
    "    print(len(df))"
   ]
  },
  {
   "cell_type": "markdown",
   "metadata": {},
   "source": [
    "## Exporting tables \n",
    "This part exports the tables to csv files with 500 entries and non-null values. Tables will be used by SQL database.\n",
    "Joke di gumagana ung loop so ayusin nalang isa isa."
   ]
  },
  {
   "cell_type": "code",
   "execution_count": 6,
   "metadata": {},
   "outputs": [],
   "source": [
    "filenames = ['CUSTOMERS', 'GEOLOCATION', 'skip', 'ORDER_ITEMS', 'skip', 'ORDER_REVIEWS', 'PRODUCTS', 'SELLERS', 'skip']\n",
    "SAMPLE_SIZE = 500"
   ]
  },
  {
   "cell_type": "code",
   "execution_count": 10,
   "metadata": {},
   "outputs": [],
   "source": [
    "#for every df, drop null -> sample 500 -> export to csv\n",
    "for i in range(0, len(datasets_list) - 1):\n",
    "    if i != ORDERS and i != ORDER_PAYMENTS and i != CATEGORY_NAME:\n",
    "        exports = datasets_list[i].dropna()\n",
    "        exports = exports.sample(SAMPLE_SIZE)\n",
    "        exports.to_csv(r'C:\\Users\\Ronell Roxas\\Desktop\\\\' + filenames[i] + '.csv', index=False, header=True)\n",
    "    \n",
    "# WARNING: Don't export on same folder as initial datasets, it will change the order of tables in datasets_list"
   ]
  },
  {
   "cell_type": "code",
   "execution_count": 8,
   "metadata": {},
   "outputs": [],
   "source": [
    "#Export Orders table merged with payments (according to SQL database)\n",
    "export = datasets_list[ORDERS].dropna()\n",
    "payments = datasets_list[ORDER_PAYMENTS]\n",
    "export = export.merge(payments, on='order_id', how=\"left\")\n",
    "export = export.sample(SAMPLE_SIZE)\n",
    "export.to_csv(r'C:\\Users\\Ronell Roxas\\Desktop\\ORDERS.csv', index=False, header=True)"
   ]
  },
  {
   "cell_type": "code",
   "execution_count": 9,
   "metadata": {},
   "outputs": [],
   "source": [
    "#export category_name (71 entries only, special case)\n",
    "export = datasets_list[CATEGORY_NAME].dropna()\n",
    "export.to_csv(r'C:\\Users\\Ronell Roxas\\Desktop\\CATEGORY_NAME.csv', index=False, header=True)"
   ]
  },
  {
   "cell_type": "code",
   "execution_count": null,
   "metadata": {},
   "outputs": [],
   "source": []
  }
 ],
 "metadata": {
  "kernelspec": {
   "display_name": "Python 3",
   "language": "python",
   "name": "python3"
  },
  "language_info": {
   "codemirror_mode": {
    "name": "ipython",
    "version": 3
   },
   "file_extension": ".py",
   "mimetype": "text/x-python",
   "name": "python",
   "nbconvert_exporter": "python",
   "pygments_lexer": "ipython3",
   "version": "3.7.3"
  }
 },
 "nbformat": 4,
 "nbformat_minor": 2
}
