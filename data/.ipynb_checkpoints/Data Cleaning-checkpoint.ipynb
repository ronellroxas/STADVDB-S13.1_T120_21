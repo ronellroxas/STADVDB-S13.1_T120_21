{
 "cells": [
  {
   "cell_type": "markdown",
   "metadata": {},
   "source": [
    "# Data Cleaning for Dataset\n",
    "Dataset found [here.](https://www.kaggle.com/olistbr/brazilian-ecommerce)"
   ]
  },
  {
   "cell_type": "code",
   "execution_count": 1,
   "metadata": {},
   "outputs": [],
   "source": [
    "import pandas as pd\n",
    "import glob"
   ]
  },
  {
   "cell_type": "code",
   "execution_count": 2,
   "metadata": {},
   "outputs": [
    {
     "name": "stdout",
     "output_type": "stream",
     "text": [
      "olist_customers_dataset.csv\n",
      "olist_geolocation_dataset.csv\n",
      "olist_orders_dataset.csv\n",
      "olist_order_items_dataset.csv\n",
      "olist_order_payments_dataset.csv\n",
      "olist_order_reviews_dataset.csv\n",
      "olist_products_dataset.csv\n",
      "olist_sellers_dataset.csv\n",
      "product_category_name_translation.csv\n"
     ]
    }
   ],
   "source": [
    "#import datasets\n",
    "filenames = glob.glob(\"*.csv\")\n",
    "\n",
    "datasets_list = []\n",
    "\n",
    "for filename in filenames:\n",
    "    print(filename)\n",
    "    df = pd.read_csv(filename)\n",
    "    datasets_list.append(df)"
   ]
  },
  {
   "cell_type": "code",
   "execution_count": 3,
   "metadata": {},
   "outputs": [],
   "source": [
    "#constants for easier access to dataset\n",
    "CUSTOMERS = 0\n",
    "GEOLOCATION = 1\n",
    "ORDERS = 2\n",
    "ORDER_ITEMS = 3\n",
    "ORDER_PAYMENTS = 4\n",
    "ORDER_REVIEWS = 5\n",
    "PRODUCTS = 6\n",
    "SELLERS = 7\n",
    "CATEGORY_NAME = 8"
   ]
  },
  {
   "cell_type": "code",
   "execution_count": null,
   "metadata": {},
   "outputs": [],
   "source": [
    "datasets_list[ORDER_ITEMS].head() #Example accessing olist_order_items_dataset using constants"
   ]
  },
  {
   "cell_type": "code",
   "execution_count": null,
   "metadata": {},
   "outputs": [],
   "source": [
    "datasets_list[ORDERS].head()"
   ]
  },
  {
   "cell_type": "code",
   "execution_count": 9,
   "metadata": {},
   "outputs": [
    {
     "name": "stdout",
     "output_type": "stream",
     "text": [
      "customer_id                 False\n",
      "customer_unique_id          False\n",
      "customer_zip_code_prefix    False\n",
      "customer_city               False\n",
      "customer_state              False\n",
      "dtype: bool\n",
      "geolocation_zip_code_prefix    False\n",
      "geolocation_lat                False\n",
      "geolocation_lng                False\n",
      "geolocation_city               False\n",
      "geolocation_state              False\n",
      "dtype: bool\n",
      "order_id                         False\n",
      "customer_id                      False\n",
      "order_status                     False\n",
      "order_purchase_timestamp         False\n",
      "order_approved_at                 True\n",
      "order_delivered_carrier_date      True\n",
      "order_delivered_customer_date     True\n",
      "order_estimated_delivery_date    False\n",
      "dtype: bool\n",
      "order_id               False\n",
      "order_item_id          False\n",
      "product_id             False\n",
      "seller_id              False\n",
      "shipping_limit_date    False\n",
      "price                  False\n",
      "freight_value          False\n",
      "dtype: bool\n",
      "order_id                False\n",
      "payment_sequential      False\n",
      "payment_type            False\n",
      "payment_installments    False\n",
      "payment_value           False\n",
      "dtype: bool\n",
      "review_id                  False\n",
      "order_id                   False\n",
      "review_score               False\n",
      "review_comment_title        True\n",
      "review_comment_message      True\n",
      "review_creation_date       False\n",
      "review_answer_timestamp    False\n",
      "dtype: bool\n",
      "product_id                    False\n",
      "product_category_name          True\n",
      "product_name_lenght            True\n",
      "product_description_lenght     True\n",
      "product_photos_qty             True\n",
      "product_weight_g               True\n",
      "product_length_cm              True\n",
      "product_height_cm              True\n",
      "product_width_cm               True\n",
      "dtype: bool\n",
      "seller_id                 False\n",
      "seller_zip_code_prefix    False\n",
      "seller_city               False\n",
      "seller_state              False\n",
      "dtype: bool\n",
      "product_category_name            False\n",
      "product_category_name_english    False\n",
      "dtype: bool\n"
     ]
    }
   ],
   "source": [
    "for df in datasets_list:\n",
    "    print(df.isnull().any())"
   ]
  },
  {
   "cell_type": "code",
   "execution_count": 8,
   "metadata": {},
   "outputs": [
    {
     "name": "stdout",
     "output_type": "stream",
     "text": [
      "99441\n",
      "1000163\n",
      "99441\n",
      "112650\n",
      "103886\n",
      "100000\n",
      "32951\n",
      "3095\n",
      "71\n"
     ]
    }
   ],
   "source": [
    "#size of each table\n",
    "for df in datasets_list:\n",
    "    print(len(df))"
   ]
  },
  {
   "cell_type": "markdown",
   "metadata": {},
   "source": [
    "## Exporting tables \n",
    "This part exports the tables to csv files with 500 entries and non-null values. Tables will be used by SQL database.\n",
    "Joke di gumagana ung loop so ayusin nalang isa isa."
   ]
  },
  {
   "cell_type": "code",
   "execution_count": 14,
   "metadata": {},
   "outputs": [],
   "source": [
    "filenames = ['customers', 'geolocation', 'skip', 'order_items', 'skip', 'order_reviews', 'products', 'sellers', 'skip']\n",
    "SAMPLE_SIZE = 10000"
   ]
  },
  {
   "cell_type": "code",
   "execution_count": 15,
   "metadata": {},
   "outputs": [
    {
     "name": "stdout",
     "output_type": "stream",
     "text": [
      "customers:99441\n",
      "geolocation:1000163\n",
      "order_items:112650\n",
      "order_reviews:9986\n"
     ]
    },
    {
     "ename": "ValueError",
     "evalue": "Cannot take a larger sample than population when 'replace=False'",
     "output_type": "error",
     "traceback": [
      "\u001b[1;31m---------------------------------------------------------------------------\u001b[0m",
      "\u001b[1;31mValueError\u001b[0m                                Traceback (most recent call last)",
      "\u001b[1;32m<ipython-input-15-1f0074fe3705>\u001b[0m in \u001b[0;36m<module>\u001b[1;34m\u001b[0m\n\u001b[0;32m      4\u001b[0m         \u001b[0mexports\u001b[0m \u001b[1;33m=\u001b[0m \u001b[0mdatasets_list\u001b[0m\u001b[1;33m[\u001b[0m\u001b[0mi\u001b[0m\u001b[1;33m]\u001b[0m\u001b[1;33m.\u001b[0m\u001b[0mdropna\u001b[0m\u001b[1;33m(\u001b[0m\u001b[1;33m)\u001b[0m\u001b[1;33m\u001b[0m\u001b[1;33m\u001b[0m\u001b[0m\n\u001b[0;32m      5\u001b[0m         \u001b[0mprint\u001b[0m\u001b[1;33m(\u001b[0m\u001b[0mfilenames\u001b[0m\u001b[1;33m[\u001b[0m\u001b[0mi\u001b[0m\u001b[1;33m]\u001b[0m \u001b[1;33m+\u001b[0m \u001b[1;34m\":\"\u001b[0m \u001b[1;33m+\u001b[0m \u001b[0mstr\u001b[0m\u001b[1;33m(\u001b[0m\u001b[0mlen\u001b[0m\u001b[1;33m(\u001b[0m\u001b[0mexports\u001b[0m\u001b[1;33m)\u001b[0m\u001b[1;33m)\u001b[0m\u001b[1;33m)\u001b[0m\u001b[1;33m\u001b[0m\u001b[1;33m\u001b[0m\u001b[0m\n\u001b[1;32m----> 6\u001b[1;33m         \u001b[0mexports\u001b[0m \u001b[1;33m=\u001b[0m \u001b[0mexports\u001b[0m\u001b[1;33m.\u001b[0m\u001b[0msample\u001b[0m\u001b[1;33m(\u001b[0m\u001b[0mSAMPLE_SIZE\u001b[0m\u001b[1;33m)\u001b[0m\u001b[1;33m\u001b[0m\u001b[1;33m\u001b[0m\u001b[0m\n\u001b[0m\u001b[0;32m      7\u001b[0m         \u001b[0mexports\u001b[0m\u001b[1;33m.\u001b[0m\u001b[0mto_csv\u001b[0m\u001b[1;33m(\u001b[0m\u001b[1;34mr'C:\\Users\\Ronell Roxas\\Desktop\\\\'\u001b[0m \u001b[1;33m+\u001b[0m \u001b[0mfilenames\u001b[0m\u001b[1;33m[\u001b[0m\u001b[0mi\u001b[0m\u001b[1;33m]\u001b[0m \u001b[1;33m+\u001b[0m \u001b[1;34m'.csv'\u001b[0m\u001b[1;33m,\u001b[0m \u001b[0mindex\u001b[0m\u001b[1;33m=\u001b[0m\u001b[1;32mFalse\u001b[0m\u001b[1;33m,\u001b[0m \u001b[0mheader\u001b[0m\u001b[1;33m=\u001b[0m\u001b[1;32mTrue\u001b[0m\u001b[1;33m)\u001b[0m\u001b[1;33m\u001b[0m\u001b[1;33m\u001b[0m\u001b[0m\n\u001b[0;32m      8\u001b[0m \u001b[1;33m\u001b[0m\u001b[0m\n",
      "\u001b[1;32mC:\\ProgramData\\Anaconda3\\lib\\site-packages\\pandas\\core\\generic.py\u001b[0m in \u001b[0;36msample\u001b[1;34m(self, n, frac, replace, weights, random_state, axis)\u001b[0m\n\u001b[0;32m   4863\u001b[0m                              \"provide positive value.\")\n\u001b[0;32m   4864\u001b[0m \u001b[1;33m\u001b[0m\u001b[0m\n\u001b[1;32m-> 4865\u001b[1;33m         \u001b[0mlocs\u001b[0m \u001b[1;33m=\u001b[0m \u001b[0mrs\u001b[0m\u001b[1;33m.\u001b[0m\u001b[0mchoice\u001b[0m\u001b[1;33m(\u001b[0m\u001b[0maxis_length\u001b[0m\u001b[1;33m,\u001b[0m \u001b[0msize\u001b[0m\u001b[1;33m=\u001b[0m\u001b[0mn\u001b[0m\u001b[1;33m,\u001b[0m \u001b[0mreplace\u001b[0m\u001b[1;33m=\u001b[0m\u001b[0mreplace\u001b[0m\u001b[1;33m,\u001b[0m \u001b[0mp\u001b[0m\u001b[1;33m=\u001b[0m\u001b[0mweights\u001b[0m\u001b[1;33m)\u001b[0m\u001b[1;33m\u001b[0m\u001b[1;33m\u001b[0m\u001b[0m\n\u001b[0m\u001b[0;32m   4866\u001b[0m         \u001b[1;32mreturn\u001b[0m \u001b[0mself\u001b[0m\u001b[1;33m.\u001b[0m\u001b[0mtake\u001b[0m\u001b[1;33m(\u001b[0m\u001b[0mlocs\u001b[0m\u001b[1;33m,\u001b[0m \u001b[0maxis\u001b[0m\u001b[1;33m=\u001b[0m\u001b[0maxis\u001b[0m\u001b[1;33m,\u001b[0m \u001b[0mis_copy\u001b[0m\u001b[1;33m=\u001b[0m\u001b[1;32mFalse\u001b[0m\u001b[1;33m)\u001b[0m\u001b[1;33m\u001b[0m\u001b[1;33m\u001b[0m\u001b[0m\n\u001b[0;32m   4867\u001b[0m \u001b[1;33m\u001b[0m\u001b[0m\n",
      "\u001b[1;32mmtrand.pyx\u001b[0m in \u001b[0;36mmtrand.RandomState.choice\u001b[1;34m()\u001b[0m\n",
      "\u001b[1;31mValueError\u001b[0m: Cannot take a larger sample than population when 'replace=False'"
     ]
    }
   ],
   "source": [
    "#for every df, drop null -> sample 500 -> export to csv\n",
    "for i in range(0, len(datasets_list) - 1):\n",
    "    if i != ORDERS and i != ORDER_PAYMENTS and i != CATEGORY_NAME and i != SELLERS:\n",
    "        exports = datasets_list[i].dropna()\n",
    "        print(filenames[i] + \":\" + str(len(exports)))\n",
    "        #exports = exports.sample(SAMPLE_SIZE)\n",
    "        #exports.to_csv(r'C:\\Users\\Ronell Roxas\\Desktop\\\\' + filenames[i] + '.csv', index=False, header=True)\n",
    "    \n",
    "# WARNING: Don't export on same folder as initial datasets, it will change the order of tables in datasets_list"
   ]
  },
  {
   "cell_type": "code",
   "execution_count": null,
   "metadata": {},
   "outputs": [],
   "source": [
    "#Export Orders table merged with payments (according to SQL database)\n",
    "export = datasets_list[ORDERS].dropna()\n",
    "payments = datasets_list[ORDER_PAYMENTS]\n",
    "export = export.merge(payments, on='order_id', how=\"left\")\n",
    "export = export.sample(SAMPLE_SIZE)\n",
    "export.to_csv(r'C:\\Users\\Ronell Roxas\\Desktop\\orders.csv', index=False, header=True)"
   ]
  },
  {
   "cell_type": "code",
   "execution_count": null,
   "metadata": {},
   "outputs": [],
   "source": [
    "#export category_name (71 entries only, special case)\n",
    "export = datasets_list[CATEGORY_NAME].dropna()\n",
    "export.to_csv(r'C:\\Users\\Ronell Roxas\\Desktop\\category_name.csv', index=False, header=True)"
   ]
  },
  {
   "cell_type": "code",
   "execution_count": null,
   "metadata": {},
   "outputs": [],
   "source": [
    "#export sellers, 3000 rows only\n",
    "export = datasets_list[CATEGORY_NAME].dropna()\n",
    "export.to_csv(r'C:\\Users\\Ronell Roxas\\Desktop\\sellers.csv', index=False, header=True)"
   ]
  }
 ],
 "metadata": {
  "kernelspec": {
   "display_name": "Python 3",
   "language": "python",
   "name": "python3"
  },
  "language_info": {
   "codemirror_mode": {
    "name": "ipython",
    "version": 3
   },
   "file_extension": ".py",
   "mimetype": "text/x-python",
   "name": "python",
   "nbconvert_exporter": "python",
   "pygments_lexer": "ipython3",
   "version": "3.7.3"
  }
 },
 "nbformat": 4,
 "nbformat_minor": 2
}
